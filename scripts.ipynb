{
 "cells": [
  {
   "cell_type": "markdown",
   "metadata": {},
   "source": [
    "# Tulime network analysis\n",
    "\n",
    "The data regarding the project was first obtained through an Gsheet compiled partially by an organization component and partially by me, employing the data provided by the association thrugh mails and Whatsapp conversations. <br>\n",
    "This sheet served, once completed, to extract data regarding single projects and convert them into CSVs in order to later access them through python and perform analysis and operation on data through <a href=\"https://pandas.pydata.org/\">Pandas</a> library."
   ]
  },
  {
   "cell_type": "code",
   "execution_count": 13,
   "metadata": {},
   "outputs": [],
   "source": [
    "import numpy as np\n",
    "import pandas as pd\n",
    "import random"
   ]
  },
  {
   "cell_type": "code",
   "execution_count": 20,
   "metadata": {},
   "outputs": [
    {
     "ename": "FileNotFoundError",
     "evalue": "[Errno 2] No such file or directory: 'Maji.csv'",
     "output_type": "error",
     "traceback": [
      "\u001b[1;31m---------------------------------------------------------------------------\u001b[0m",
      "\u001b[1;31mFileNotFoundError\u001b[0m                         Traceback (most recent call last)",
      "\u001b[1;32mC:\\Users\\GIORGI~1\\AppData\\Local\\Temp/ipykernel_9204/1530985544.py\u001b[0m in \u001b[0;36m<module>\u001b[1;34m\u001b[0m\n\u001b[1;32m----> 1\u001b[1;33m \u001b[0mdf\u001b[0m \u001b[1;33m=\u001b[0m \u001b[0mpd\u001b[0m\u001b[1;33m.\u001b[0m\u001b[0mread_csv\u001b[0m\u001b[1;33m(\u001b[0m\u001b[1;34m\"Maji.csv\"\u001b[0m\u001b[1;33m,\u001b[0m \u001b[0mencoding\u001b[0m\u001b[1;33m=\u001b[0m\u001b[1;34m\"utf-8\"\u001b[0m\u001b[1;33m)\u001b[0m\u001b[1;33m\u001b[0m\u001b[1;33m\u001b[0m\u001b[0m\n\u001b[0m\u001b[0;32m      2\u001b[0m \u001b[0mrand_kitowo\u001b[0m\u001b[1;33m=\u001b[0m\u001b[0mrandom\u001b[0m\u001b[1;33m.\u001b[0m\u001b[0mrandint\u001b[0m\u001b[1;33m(\u001b[0m\u001b[1;36m2500\u001b[0m\u001b[1;33m,\u001b[0m \u001b[1;36m3000\u001b[0m\u001b[1;33m)\u001b[0m\u001b[1;33m\u001b[0m\u001b[1;33m\u001b[0m\u001b[0m\n\u001b[0;32m      3\u001b[0m \u001b[0mrand_pomerini\u001b[0m\u001b[1;33m=\u001b[0m\u001b[0mrandom\u001b[0m\u001b[1;33m.\u001b[0m\u001b[0mrandint\u001b[0m\u001b[1;33m(\u001b[0m\u001b[1;36m850\u001b[0m\u001b[1;33m,\u001b[0m \u001b[1;36m900\u001b[0m\u001b[1;33m)\u001b[0m\u001b[1;33m\u001b[0m\u001b[1;33m\u001b[0m\u001b[0m\n\u001b[0;32m      4\u001b[0m \u001b[0mrand_mwawambala\u001b[0m\u001b[1;33m=\u001b[0m\u001b[0mrandom\u001b[0m\u001b[1;33m.\u001b[0m\u001b[0mrandint\u001b[0m\u001b[1;33m(\u001b[0m\u001b[1;36m850\u001b[0m\u001b[1;33m,\u001b[0m \u001b[1;36m900\u001b[0m\u001b[1;33m)\u001b[0m\u001b[1;33m\u001b[0m\u001b[1;33m\u001b[0m\u001b[0m\n\u001b[0;32m      5\u001b[0m \u001b[1;32mfor\u001b[0m \u001b[0mn\u001b[0m \u001b[1;32min\u001b[0m \u001b[0mrange\u001b[0m\u001b[1;33m(\u001b[0m\u001b[1;36m0\u001b[0m\u001b[1;33m,\u001b[0m\u001b[0mrand_kitowo\u001b[0m\u001b[1;33m)\u001b[0m\u001b[1;33m:\u001b[0m\u001b[1;33m\u001b[0m\u001b[1;33m\u001b[0m\u001b[0m\n",
      "\u001b[1;32m~\\AppData\\Local\\Packages\\PythonSoftwareFoundation.Python.3.9_qbz5n2kfra8p0\\LocalCache\\local-packages\\Python39\\site-packages\\pandas\\util\\_decorators.py\u001b[0m in \u001b[0;36mwrapper\u001b[1;34m(*args, **kwargs)\u001b[0m\n\u001b[0;32m    309\u001b[0m                     \u001b[0mstacklevel\u001b[0m\u001b[1;33m=\u001b[0m\u001b[0mstacklevel\u001b[0m\u001b[1;33m,\u001b[0m\u001b[1;33m\u001b[0m\u001b[1;33m\u001b[0m\u001b[0m\n\u001b[0;32m    310\u001b[0m                 )\n\u001b[1;32m--> 311\u001b[1;33m             \u001b[1;32mreturn\u001b[0m \u001b[0mfunc\u001b[0m\u001b[1;33m(\u001b[0m\u001b[1;33m*\u001b[0m\u001b[0margs\u001b[0m\u001b[1;33m,\u001b[0m \u001b[1;33m**\u001b[0m\u001b[0mkwargs\u001b[0m\u001b[1;33m)\u001b[0m\u001b[1;33m\u001b[0m\u001b[1;33m\u001b[0m\u001b[0m\n\u001b[0m\u001b[0;32m    312\u001b[0m \u001b[1;33m\u001b[0m\u001b[0m\n\u001b[0;32m    313\u001b[0m         \u001b[1;32mreturn\u001b[0m \u001b[0mwrapper\u001b[0m\u001b[1;33m\u001b[0m\u001b[1;33m\u001b[0m\u001b[0m\n",
      "\u001b[1;32m~\\AppData\\Local\\Packages\\PythonSoftwareFoundation.Python.3.9_qbz5n2kfra8p0\\LocalCache\\local-packages\\Python39\\site-packages\\pandas\\io\\parsers\\readers.py\u001b[0m in \u001b[0;36mread_csv\u001b[1;34m(filepath_or_buffer, sep, delimiter, header, names, index_col, usecols, squeeze, prefix, mangle_dupe_cols, dtype, engine, converters, true_values, false_values, skipinitialspace, skiprows, skipfooter, nrows, na_values, keep_default_na, na_filter, verbose, skip_blank_lines, parse_dates, infer_datetime_format, keep_date_col, date_parser, dayfirst, cache_dates, iterator, chunksize, compression, thousands, decimal, lineterminator, quotechar, quoting, doublequote, escapechar, comment, encoding, encoding_errors, dialect, error_bad_lines, warn_bad_lines, on_bad_lines, delim_whitespace, low_memory, memory_map, float_precision, storage_options)\u001b[0m\n\u001b[0;32m    584\u001b[0m     \u001b[0mkwds\u001b[0m\u001b[1;33m.\u001b[0m\u001b[0mupdate\u001b[0m\u001b[1;33m(\u001b[0m\u001b[0mkwds_defaults\u001b[0m\u001b[1;33m)\u001b[0m\u001b[1;33m\u001b[0m\u001b[1;33m\u001b[0m\u001b[0m\n\u001b[0;32m    585\u001b[0m \u001b[1;33m\u001b[0m\u001b[0m\n\u001b[1;32m--> 586\u001b[1;33m     \u001b[1;32mreturn\u001b[0m \u001b[0m_read\u001b[0m\u001b[1;33m(\u001b[0m\u001b[0mfilepath_or_buffer\u001b[0m\u001b[1;33m,\u001b[0m \u001b[0mkwds\u001b[0m\u001b[1;33m)\u001b[0m\u001b[1;33m\u001b[0m\u001b[1;33m\u001b[0m\u001b[0m\n\u001b[0m\u001b[0;32m    587\u001b[0m \u001b[1;33m\u001b[0m\u001b[0m\n\u001b[0;32m    588\u001b[0m \u001b[1;33m\u001b[0m\u001b[0m\n",
      "\u001b[1;32m~\\AppData\\Local\\Packages\\PythonSoftwareFoundation.Python.3.9_qbz5n2kfra8p0\\LocalCache\\local-packages\\Python39\\site-packages\\pandas\\io\\parsers\\readers.py\u001b[0m in \u001b[0;36m_read\u001b[1;34m(filepath_or_buffer, kwds)\u001b[0m\n\u001b[0;32m    480\u001b[0m \u001b[1;33m\u001b[0m\u001b[0m\n\u001b[0;32m    481\u001b[0m     \u001b[1;31m# Create the parser.\u001b[0m\u001b[1;33m\u001b[0m\u001b[1;33m\u001b[0m\u001b[0m\n\u001b[1;32m--> 482\u001b[1;33m     \u001b[0mparser\u001b[0m \u001b[1;33m=\u001b[0m \u001b[0mTextFileReader\u001b[0m\u001b[1;33m(\u001b[0m\u001b[0mfilepath_or_buffer\u001b[0m\u001b[1;33m,\u001b[0m \u001b[1;33m**\u001b[0m\u001b[0mkwds\u001b[0m\u001b[1;33m)\u001b[0m\u001b[1;33m\u001b[0m\u001b[1;33m\u001b[0m\u001b[0m\n\u001b[0m\u001b[0;32m    483\u001b[0m \u001b[1;33m\u001b[0m\u001b[0m\n\u001b[0;32m    484\u001b[0m     \u001b[1;32mif\u001b[0m \u001b[0mchunksize\u001b[0m \u001b[1;32mor\u001b[0m \u001b[0miterator\u001b[0m\u001b[1;33m:\u001b[0m\u001b[1;33m\u001b[0m\u001b[1;33m\u001b[0m\u001b[0m\n",
      "\u001b[1;32m~\\AppData\\Local\\Packages\\PythonSoftwareFoundation.Python.3.9_qbz5n2kfra8p0\\LocalCache\\local-packages\\Python39\\site-packages\\pandas\\io\\parsers\\readers.py\u001b[0m in \u001b[0;36m__init__\u001b[1;34m(self, f, engine, **kwds)\u001b[0m\n\u001b[0;32m    809\u001b[0m             \u001b[0mself\u001b[0m\u001b[1;33m.\u001b[0m\u001b[0moptions\u001b[0m\u001b[1;33m[\u001b[0m\u001b[1;34m\"has_index_names\"\u001b[0m\u001b[1;33m]\u001b[0m \u001b[1;33m=\u001b[0m \u001b[0mkwds\u001b[0m\u001b[1;33m[\u001b[0m\u001b[1;34m\"has_index_names\"\u001b[0m\u001b[1;33m]\u001b[0m\u001b[1;33m\u001b[0m\u001b[1;33m\u001b[0m\u001b[0m\n\u001b[0;32m    810\u001b[0m \u001b[1;33m\u001b[0m\u001b[0m\n\u001b[1;32m--> 811\u001b[1;33m         \u001b[0mself\u001b[0m\u001b[1;33m.\u001b[0m\u001b[0m_engine\u001b[0m \u001b[1;33m=\u001b[0m \u001b[0mself\u001b[0m\u001b[1;33m.\u001b[0m\u001b[0m_make_engine\u001b[0m\u001b[1;33m(\u001b[0m\u001b[0mself\u001b[0m\u001b[1;33m.\u001b[0m\u001b[0mengine\u001b[0m\u001b[1;33m)\u001b[0m\u001b[1;33m\u001b[0m\u001b[1;33m\u001b[0m\u001b[0m\n\u001b[0m\u001b[0;32m    812\u001b[0m \u001b[1;33m\u001b[0m\u001b[0m\n\u001b[0;32m    813\u001b[0m     \u001b[1;32mdef\u001b[0m \u001b[0mclose\u001b[0m\u001b[1;33m(\u001b[0m\u001b[0mself\u001b[0m\u001b[1;33m)\u001b[0m\u001b[1;33m:\u001b[0m\u001b[1;33m\u001b[0m\u001b[1;33m\u001b[0m\u001b[0m\n",
      "\u001b[1;32m~\\AppData\\Local\\Packages\\PythonSoftwareFoundation.Python.3.9_qbz5n2kfra8p0\\LocalCache\\local-packages\\Python39\\site-packages\\pandas\\io\\parsers\\readers.py\u001b[0m in \u001b[0;36m_make_engine\u001b[1;34m(self, engine)\u001b[0m\n\u001b[0;32m   1038\u001b[0m             )\n\u001b[0;32m   1039\u001b[0m         \u001b[1;31m# error: Too many arguments for \"ParserBase\"\u001b[0m\u001b[1;33m\u001b[0m\u001b[1;33m\u001b[0m\u001b[0m\n\u001b[1;32m-> 1040\u001b[1;33m         \u001b[1;32mreturn\u001b[0m \u001b[0mmapping\u001b[0m\u001b[1;33m[\u001b[0m\u001b[0mengine\u001b[0m\u001b[1;33m]\u001b[0m\u001b[1;33m(\u001b[0m\u001b[0mself\u001b[0m\u001b[1;33m.\u001b[0m\u001b[0mf\u001b[0m\u001b[1;33m,\u001b[0m \u001b[1;33m**\u001b[0m\u001b[0mself\u001b[0m\u001b[1;33m.\u001b[0m\u001b[0moptions\u001b[0m\u001b[1;33m)\u001b[0m  \u001b[1;31m# type: ignore[call-arg]\u001b[0m\u001b[1;33m\u001b[0m\u001b[1;33m\u001b[0m\u001b[0m\n\u001b[0m\u001b[0;32m   1041\u001b[0m \u001b[1;33m\u001b[0m\u001b[0m\n\u001b[0;32m   1042\u001b[0m     \u001b[1;32mdef\u001b[0m \u001b[0m_failover_to_python\u001b[0m\u001b[1;33m(\u001b[0m\u001b[0mself\u001b[0m\u001b[1;33m)\u001b[0m\u001b[1;33m:\u001b[0m\u001b[1;33m\u001b[0m\u001b[1;33m\u001b[0m\u001b[0m\n",
      "\u001b[1;32m~\\AppData\\Local\\Packages\\PythonSoftwareFoundation.Python.3.9_qbz5n2kfra8p0\\LocalCache\\local-packages\\Python39\\site-packages\\pandas\\io\\parsers\\c_parser_wrapper.py\u001b[0m in \u001b[0;36m__init__\u001b[1;34m(self, src, **kwds)\u001b[0m\n\u001b[0;32m     49\u001b[0m \u001b[1;33m\u001b[0m\u001b[0m\n\u001b[0;32m     50\u001b[0m         \u001b[1;31m# open handles\u001b[0m\u001b[1;33m\u001b[0m\u001b[1;33m\u001b[0m\u001b[0m\n\u001b[1;32m---> 51\u001b[1;33m         \u001b[0mself\u001b[0m\u001b[1;33m.\u001b[0m\u001b[0m_open_handles\u001b[0m\u001b[1;33m(\u001b[0m\u001b[0msrc\u001b[0m\u001b[1;33m,\u001b[0m \u001b[0mkwds\u001b[0m\u001b[1;33m)\u001b[0m\u001b[1;33m\u001b[0m\u001b[1;33m\u001b[0m\u001b[0m\n\u001b[0m\u001b[0;32m     52\u001b[0m         \u001b[1;32massert\u001b[0m \u001b[0mself\u001b[0m\u001b[1;33m.\u001b[0m\u001b[0mhandles\u001b[0m \u001b[1;32mis\u001b[0m \u001b[1;32mnot\u001b[0m \u001b[1;32mNone\u001b[0m\u001b[1;33m\u001b[0m\u001b[1;33m\u001b[0m\u001b[0m\n\u001b[0;32m     53\u001b[0m \u001b[1;33m\u001b[0m\u001b[0m\n",
      "\u001b[1;32m~\\AppData\\Local\\Packages\\PythonSoftwareFoundation.Python.3.9_qbz5n2kfra8p0\\LocalCache\\local-packages\\Python39\\site-packages\\pandas\\io\\parsers\\base_parser.py\u001b[0m in \u001b[0;36m_open_handles\u001b[1;34m(self, src, kwds)\u001b[0m\n\u001b[0;32m    220\u001b[0m         \u001b[0mLet\u001b[0m \u001b[0mthe\u001b[0m \u001b[0mreaders\u001b[0m \u001b[0mopen\u001b[0m \u001b[0mIOHandles\u001b[0m \u001b[0mafter\u001b[0m \u001b[0mthey\u001b[0m \u001b[0mare\u001b[0m \u001b[0mdone\u001b[0m \u001b[1;32mwith\u001b[0m \u001b[0mtheir\u001b[0m \u001b[0mpotential\u001b[0m \u001b[0mraises\u001b[0m\u001b[1;33m.\u001b[0m\u001b[1;33m\u001b[0m\u001b[1;33m\u001b[0m\u001b[0m\n\u001b[0;32m    221\u001b[0m         \"\"\"\n\u001b[1;32m--> 222\u001b[1;33m         self.handles = get_handle(\n\u001b[0m\u001b[0;32m    223\u001b[0m             \u001b[0msrc\u001b[0m\u001b[1;33m,\u001b[0m\u001b[1;33m\u001b[0m\u001b[1;33m\u001b[0m\u001b[0m\n\u001b[0;32m    224\u001b[0m             \u001b[1;34m\"r\"\u001b[0m\u001b[1;33m,\u001b[0m\u001b[1;33m\u001b[0m\u001b[1;33m\u001b[0m\u001b[0m\n",
      "\u001b[1;32m~\\AppData\\Local\\Packages\\PythonSoftwareFoundation.Python.3.9_qbz5n2kfra8p0\\LocalCache\\local-packages\\Python39\\site-packages\\pandas\\io\\common.py\u001b[0m in \u001b[0;36mget_handle\u001b[1;34m(path_or_buf, mode, encoding, compression, memory_map, is_text, errors, storage_options)\u001b[0m\n\u001b[0;32m    700\u001b[0m         \u001b[1;32mif\u001b[0m \u001b[0mioargs\u001b[0m\u001b[1;33m.\u001b[0m\u001b[0mencoding\u001b[0m \u001b[1;32mand\u001b[0m \u001b[1;34m\"b\"\u001b[0m \u001b[1;32mnot\u001b[0m \u001b[1;32min\u001b[0m \u001b[0mioargs\u001b[0m\u001b[1;33m.\u001b[0m\u001b[0mmode\u001b[0m\u001b[1;33m:\u001b[0m\u001b[1;33m\u001b[0m\u001b[1;33m\u001b[0m\u001b[0m\n\u001b[0;32m    701\u001b[0m             \u001b[1;31m# Encoding\u001b[0m\u001b[1;33m\u001b[0m\u001b[1;33m\u001b[0m\u001b[0m\n\u001b[1;32m--> 702\u001b[1;33m             handle = open(\n\u001b[0m\u001b[0;32m    703\u001b[0m                 \u001b[0mhandle\u001b[0m\u001b[1;33m,\u001b[0m\u001b[1;33m\u001b[0m\u001b[1;33m\u001b[0m\u001b[0m\n\u001b[0;32m    704\u001b[0m                 \u001b[0mioargs\u001b[0m\u001b[1;33m.\u001b[0m\u001b[0mmode\u001b[0m\u001b[1;33m,\u001b[0m\u001b[1;33m\u001b[0m\u001b[1;33m\u001b[0m\u001b[0m\n",
      "\u001b[1;31mFileNotFoundError\u001b[0m: [Errno 2] No such file or directory: 'Maji.csv'"
     ]
    }
   ],
   "source": [
    "df = pd.read_csv(\"Maji.csv\", encoding=\"utf-8\")\n",
    "rand_kitowo=random.randint(2500, 3000)\n",
    "rand_pomerini=random.randint(850, 900)\n",
    "rand_mwawambala=random.randint(850, 900)\n",
    "for n in range(0,rand_kitowo):\n",
    "    df_temp={\"NAME\": \"Name\"+ str(n), \"VILLAGE\": \"Kitowo\", \"AGE\": \"\", \"SEX\": \"\", \"FAMILY\": \"\", \"START\": 2015}\n",
    "    df_temp=pd.DataFrame.from_dict(df_temp, orient=\"index\")\n",
    "    df = pd.concat([df, df_temp], ignore_index=True)\n",
    "for n in range(0, rand_pomerini):\n",
    "    df_temp={\"NAME\": \"Name\"+ str(n), \"VILLAGE\": \"Pomerini\", \"AGE\": \"\", \"SEX\": \"\", \"FAMILY\": \"\", \"START\": 2015}\n",
    "    pd.concat([df, df_temp])\n",
    "for n in range(0,rand_mwawambala):\n",
    "    df_temp={\"NAME\": \"Name\"+str(n), \"VILLAGE\": \"Mwawambala\", \"AGE\": \"\", \"SEX\": \"\", \"FAMILY\": \"\", \"START\": 2015}\n",
    "    pd.concat([df, df_temp])\n",
    "print(df)"
   ]
  },
  {
   "cell_type": "code",
   "execution_count": 2,
   "metadata": {},
   "outputs": [],
   "source": [
    "def get_all_in_dir(dir):\n",
    "    for filename in os.listdir(dir):\n",
    "        f = os.path.join(dir, filename)\n",
    "        if os.path.isfile(f) and f[-4:] == \".csv\":\n",
    "            yield f"
   ]
  },
  {
   "cell_type": "markdown",
   "metadata": {},
   "source": [
    "In this first step we need to obtain the distribution of values absent in other CSVs from the that present a more complete amount of information. To do so we first of all extract the data we have and organize it in dictionaries (to conver in CSVs) containing the values of interest and the numbre of peope in realtion to each of the values."
   ]
  },
  {
   "cell_type": "code",
   "execution_count": 98,
   "metadata": {},
   "outputs": [],
   "source": [
    "to_scan= [file for file in get_all_in_dir(\"projects_csv\")]\n",
    "\n",
    "sex_dict = dict()\n",
    "age_dict=dict()\n",
    "age_dict_children = dict()\n",
    "family_dict=dict()\n",
    "\n",
    "for file in to_scan:\n",
    "    df = pd.read_csv(file, encoding=\"utf-8\")\n",
    "    df=df.fillna(\"NaN\")\n",
    "    for col in df.columns:\n",
    "        if col == \"SEX\":\n",
    "            for el in df[col]:\n",
    "                if el in sex_dict.keys():\n",
    "                    sex_dict[el]+=1\n",
    "                elif el !=\"NaN\":\n",
    "                    sex_dict[el]=1\n",
    "\n",
    "        if col == \"AGE\" and file not in [\"projects_csv\\TupoPamoja.csv\", \"projects_csv\\Mwalimu.csv\" , \"projects_csv\\PiantalaSubito.csv\"]:\n",
    "            for el in df[col]:\n",
    "                if el in age_dict.keys():\n",
    "                    age_dict[el]+=1\n",
    "                elif el !=\"NaN\":\n",
    "                    age_dict[el]=1\n",
    "\n",
    "        if col== \"AGE\":\n",
    "            for el in df[col]:\n",
    "                if el in age_dict_children.keys():\n",
    "                    age_dict_children[el]+=1\n",
    "                elif el !=\"NaN\":\n",
    "                    age_dict_children[el]=1\n",
    "\n",
    "        \n",
    "        if col == \"FAMILY\":\n",
    "            for el in df[col]:\n",
    "                if el in family_dict.keys():\n",
    "                    family_dict[el]+=1\n",
    "                elif el !=\"NaN\":\n",
    "                    family_dict[el]=1\n",
    "\n",
    "df_sex = pd.DataFrame.from_dict(sex_dict, orient='index')\n",
    "df_sex.to_csv(r\"projects_csv/measures/sex_count.csv\")\n",
    "\n",
    "age_dict = dict(sorted(age_dict.items(), key=lambda item: item[1], reverse=True))\n",
    "df_age = pd.DataFrame.from_dict(age_dict, orient='index')\n",
    "df_age.to_csv(r\"projects_csv/measures/age_count.csv\")\n",
    "\n",
    "age_dict_children = dict(sorted(age_dict_children.items(), key=lambda item: item[1], reverse=True))\n",
    "df_age_children = pd.DataFrame.from_dict(age_dict_children, orient='index')\n",
    "df_age_children.to_csv(r\"projects_csv/measures/agechildren_count.csv\")\n",
    "\n",
    "family_dict = dict(sorted(family_dict.items(), key=lambda item: item[1], reverse=True))\n",
    "df_family = pd.DataFrame.from_dict(family_dict, orient='index')\n",
    "df_family.to_csv(r\"projects_csv/measures/family_count.csv\")\n",
    "\n",
    "\n",
    "            \n"
   ]
  },
  {
   "cell_type": "markdown",
   "metadata": {},
   "source": [
    "# Extracting distributions from the values obtained\n",
    "In order to fill missing gaps in the other CSVs we need to transform the data already in our possess into distributions of variables."
   ]
  },
  {
   "cell_type": "code",
   "execution_count": 180,
   "metadata": {},
   "outputs": [],
   "source": [
    "sum_sex = 0\n",
    "sum_age = 0\n",
    "sum_agechildren = 0\n",
    "sum_family = 0\n",
    "\n",
    "for el in sex_dict.keys():\n",
    "    sum_sex += sex_dict[el]\n",
    "for el in sex_dict.keys():\n",
    "    sex_dict[el]=sex_dict[el]/sum_sex\n",
    "\n",
    "for el in age_dict.keys():\n",
    "    sum_age += age_dict[el]\n",
    "for el in age_dict.keys():\n",
    "    age_dict[el]=age_dict[el]/sum_age\n",
    "\n",
    "for el in age_dict_children.keys():\n",
    "    sum_agechildren += age_dict_children[el]\n",
    "for el in age_dict_children.keys():\n",
    "    age_dict_children[el]=age_dict_children[el]/sum_agechildren\n",
    "\n",
    "for el in family_dict.keys():\n",
    "    sum_family += family_dict[el]\n",
    "for el in family_dict.keys():\n",
    "    family_dict[el]=family_dict[el]/sum_family\n",
    "\n",
    "df_sex = pd.DataFrame.from_dict(sex_dict, orient='index')\n",
    "df_sex.to_csv(r\"projects_csv/measures/sex_distribution.csv\")\n",
    "\n",
    "age_dict = dict(sorted(age_dict.items(), key=lambda item: item[1], reverse=True))\n",
    "df_age = pd.DataFrame.from_dict(age_dict, orient='index')\n",
    "df_age.to_csv(r\"projects_csv/measures/age_distribution.csv\")\n",
    "\n",
    "age_dict_children = dict(sorted(age_dict_children.items(), key=lambda item: item[1], reverse=True))\n",
    "df_age_children = pd.DataFrame.from_dict(age_dict_children, orient='index')\n",
    "df_age_children.to_csv(r\"projects_csv/measures/agetotal_distribution.csv\")\n",
    "\n",
    "family_dict = dict(sorted(family_dict.items(), key=lambda item: item[1], reverse=True))\n",
    "df_family = pd.DataFrame.from_dict(family_dict, orient='index')\n",
    "df_family.to_csv(r\"projects_csv/measures/family_distribution.csv\")\n"
   ]
  },
  {
   "cell_type": "markdown",
   "metadata": {},
   "source": [
    "# Filling missing values in CSVs using obtained distributions\n",
    "Now we need to use those values to fill missing cells in the remaining CSVs. WE will care about exceptions such as TupoPamoja and Mwalimu, that have restricted age range and consider the total age CSV just for MAJI, which is a project devoted to water supply: this could seem an uneveness in balance, since children are high in number but one of te interventions of MAJI regards only the school district, that by itself counts 900 inhabitants of younger ages with respect to other villagers. <br>\n",
    "In order to do so <a href=\"https://numpy.org/doc/stable/\">Numpy</a> was employed."
   ]
  },
  {
   "cell_type": "code",
   "execution_count": 64,
   "metadata": {},
   "outputs": [],
   "source": [
    "to_scan= [file for file in get_all_in_dir(\"projects_csv\")]\n",
    "\n",
    "df_age = pd.read_csv(\"projects_csv/measures/age_distribution.csv\")\n",
    "df_age_total = pd.read_csv(\"projects_csv/measures/agetotal_distribution.csv\")\n",
    "df_sex = pd.read_csv(\"projects_csv/measures/sex_distribution.csv\")\n",
    "df_family = pd.read_csv(\"projects_csv/measures/family_distribution.csv\")\n",
    "\n",
    "for file in to_scan:\n",
    "    df = pd.read_csv(file, encoding=\"utf-8\")\n",
    "    missing_age = df[\"AGE\"].isnull()\n",
    "    missing_sex = df[\"SEX\"].isnull()\n",
    "    missing_family = df[\"FAMILY\"].isnull()\n",
    "    if file.split(\"\\\\\")[1] not in [\"Maji.csv\", \"Mwalimu.csv\"]:\n",
    "        df.loc[missing_age, \"AGE\"] = np.random.choice(df_age[\"AGE\"], size=len(df[missing_age]), p=df_age[\"PERCENTAGE\"])\n",
    "    elif file.split(\"\\\\\")[1] not in [\"TupoPamoja.csv\", \"Mwalimu.csv\"]:\n",
    "        df.loc[missing_age, \"AGE\"] = np.random.choice(df_age_total[\"AGE\"], size=len(df[missing_age]), p=df_age_total[\"PERCENTAGE\"])\n",
    "    df.loc[missing_sex, \"SEX\"] = np.random.choice(df_sex[\"SEX\"], size=len(df[missing_sex]), p=df_sex[\"PERCENTAGE\"])\n",
    "    df.loc[missing_family, \"FAMILY\"] = np.random.choice(df_family[\"FAMILY\"], size=len(df[missing_family]), p=df_family[\"PERCENTAGE\"])\n",
    "    if file.split(\"\\\\\")[1] == \"TupoPamoja.csv\":\n",
    "        df.loc[missing_age, \"AGE\"] = np.random.choice(range(18, 49, 6), size=len(df[missing_age]))\n",
    "        for row in df.iterrows():\n",
    "            age = row[1][\"AGE\"]\n",
    "            idx = df[df['AGE']==age].index.values.astype(int)[0]\n",
    "            new_age = float(\"{:.2f}\".format(age/12))\n",
    "            df.loc[idx, \"AGE\"] = new_age\n",
    "    elif file.split(\"\\\\\")[1] == \"Mwalimu.csv\":\n",
    "        df.loc[missing_age, \"AGE\"] = np.random.choice(range(18, 24), size=len(df[missing_age]))\n",
    "   \n",
    "    df.to_csv(r\"projects_csv/complete/complete_\"+file.split(\"\\\\\")[1])"
   ]
  }
 ],
 "metadata": {
  "interpreter": {
   "hash": "1d603ae3e84bc2c7668b84db465d2afb033d38d826ce98f701f29ef4e883b1f2"
  },
  "kernelspec": {
   "display_name": "Python 3.9.12 64-bit (windows store)",
   "language": "python",
   "name": "python3"
  },
  "language_info": {
   "codemirror_mode": {
    "name": "ipython",
    "version": 3
   },
   "file_extension": ".py",
   "mimetype": "text/x-python",
   "name": "python",
   "nbconvert_exporter": "python",
   "pygments_lexer": "ipython3",
   "version": "3.9.12"
  },
  "orig_nbformat": 4
 },
 "nbformat": 4,
 "nbformat_minor": 2
}
