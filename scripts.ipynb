{
 "cells": [
  {
   "cell_type": "markdown",
   "metadata": {},
   "source": [
    "# Tulime network analysis\n",
    "\n",
    "The data regarding the project was first obtained through an Gsheet compiled partially by an organization component and partially by me, employing the data provided by the association thrugh mails and Whatsapp conversations. <br>\n",
    "This sheet served, once completed, to extract data regarding single projects and convert them into CSVs in order to later access them through python and perform analysis and operation on data through <a href=\"https://pandas.pydata.org/\">Pandas</a> library."
   ]
  },
  {
   "cell_type": "code",
   "execution_count": null,
   "metadata": {},
   "outputs": [],
   "source": [
    "import numpy as np\n",
    "import pandas as pd\n",
    "import random"
   ]
  },
  {
   "cell_type": "code",
   "execution_count": null,
   "metadata": {},
   "outputs": [],
   "source": [
    "def get_all_in_dir(dir):\n",
    "    for filename in os.listdir(dir):\n",
    "        f = os.path.join(dir, filename)\n",
    "        if os.path.isfile(f) and f[-4:] == \".csv\":\n",
    "            yield f"
   ]
  },
  {
   "cell_type": "markdown",
   "metadata": {},
   "source": [
    "First of all the random integers for the beneficiaris of Maji in Pomerini, Kitowo and Mwawambala were extracted.<br>\n",
    "A corresponding number of rows was added to the excel file with \"Name*n*\" in the \"NAME\" field and the village name in the corresponding one."
   ]
  },
  {
   "cell_type": "code",
   "execution_count": 81,
   "metadata": {},
   "outputs": [],
   "source": [
    "rand_kitowo=random.randint(2500, 3000)\n",
    "rand_pomerini=random.randint(850, 900)\n",
    "rand_mwawambala=random.randint(850, 900)\n",
    "\n",
    "df_maji = pd.DataFrame(index=np.arange(rand_kitowo+rand_pomerini+rand_mwawambala), columns=[\"NAME\", \"VILLAGE\", \"AGE\", \"SEX\", \"FAMILY\", \"START\"])\n",
    "idx = df_maji.index.values.astype(int)\n",
    "idx = idx [1:]\n",
    "for el in idx:\n",
    "    df_maji.loc[el, \"NAME\"] = \"Name\"+str(el)\n",
    "    if el in range(1, rand_kitowo):\n",
    "        df_maji.loc[el, \"VILLAGE\"] = \"Kitowo\"\n",
    "    elif el in range(rand_kitowo, rand_kitowo+rand_pomerini):\n",
    "        df_maji.loc[el, \"VILLAGE\"] = \"Pomerini\"\n",
    "    elif el in range(rand_kitowo+rand_pomerini, rand_kitowo+rand_pomerini+rand_mwawambala):\n",
    "        df_maji.loc[el, \"VILLAGE\"] = \"Mawambala\"\n",
    "df_maji=df_maji.dropna(thresh=2)\n",
    "#df_maji.to_csv(r\"projects_csv/Maji.csv\")\n"
   ]
  },
  {
   "cell_type": "markdown",
   "metadata": {},
   "source": [
    "In this first step we need to obtain the distribution of values absent in other CSVs from the that present a more complete amount of information. To do so we first of all extract the data we have and organize it in dictionaries (to conver in CSVs) containing the values of interest and the numbre of peope in realtion to each of the values."
   ]
  },
  {
   "cell_type": "code",
   "execution_count": null,
   "metadata": {},
   "outputs": [],
   "source": [
    "to_scan= [file for file in get_all_in_dir(\"projects_csv\")]\n",
    "\n",
    "sex_dict = dict()\n",
    "age_dict=dict()\n",
    "age_dict_children = dict()\n",
    "family_dict=dict()\n",
    "\n",
    "for file in to_scan:\n",
    "    df = pd.read_csv(file, encoding=\"utf-8\")\n",
    "    df=df.fillna(\"NaN\")\n",
    "    for col in df.columns:\n",
    "        if col == \"SEX\":\n",
    "            for el in df[col]:\n",
    "                if el in sex_dict.keys():\n",
    "                    sex_dict[el]+=1\n",
    "                elif el !=\"NaN\":\n",
    "                    sex_dict[el]=1\n",
    "\n",
    "        if col == \"AGE\" and file not in [\"projects_csv\\TupoPamoja.csv\", \"projects_csv\\Mwalimu.csv\" , \"projects_csv\\PiantalaSubito.csv\"]:\n",
    "            for el in df[col]:\n",
    "                if el in age_dict.keys():\n",
    "                    age_dict[el]+=1\n",
    "                elif el !=\"NaN\":\n",
    "                    age_dict[el]=1\n",
    "\n",
    "        if col== \"AGE\":\n",
    "            for el in df[col]:\n",
    "                if el in age_dict_children.keys():\n",
    "                    age_dict_children[el]+=1\n",
    "                elif el !=\"NaN\":\n",
    "                    age_dict_children[el]=1\n",
    "\n",
    "        \n",
    "        if col == \"FAMILY\":\n",
    "            for el in df[col]:\n",
    "                if el in family_dict.keys():\n",
    "                    family_dict[el]+=1\n",
    "                elif el !=\"NaN\":\n",
    "                    family_dict[el]=1\n",
    "\n",
    "df_sex = pd.DataFrame.from_dict(sex_dict, orient='index')\n",
    "#df_sex.to_csv(r\"projects_csv/measures/sex_count.csv\")\n",
    "\n",
    "age_dict = dict(sorted(age_dict.items(), key=lambda item: item[1], reverse=True))\n",
    "df_age = pd.DataFrame.from_dict(age_dict, orient='index')\n",
    "#df_age.to_csv(r\"projects_csv/measures/age_count.csv\")\n",
    "\n",
    "age_dict_children = dict(sorted(age_dict_children.items(), key=lambda item: item[1], reverse=True))\n",
    "df_age_children = pd.DataFrame.from_dict(age_dict_children, orient='index')\n",
    "#df_age_children.to_csv(r\"projects_csv/measures/agechildren_count.csv\")\n",
    "\n",
    "family_dict = dict(sorted(family_dict.items(), key=lambda item: item[1], reverse=True))\n",
    "df_family = pd.DataFrame.from_dict(family_dict, orient='index')\n",
    "#df_family.to_csv(r\"projects_csv/measures/family_count.csv\")\n",
    "\n",
    "\n",
    "            \n"
   ]
  },
  {
   "cell_type": "markdown",
   "metadata": {},
   "source": [
    "Columns were then renaimed as \"*VARIABLE*\" and \"PEOPLE\""
   ]
  },
  {
   "cell_type": "markdown",
   "metadata": {},
   "source": [
    "# Extracting distributions from the values obtained\n",
    "In order to fill missing gaps in the other CSVs we need to transform the data already in our possess into distributions of variables."
   ]
  },
  {
   "cell_type": "code",
   "execution_count": null,
   "metadata": {},
   "outputs": [],
   "source": [
    "sum_sex = 0\n",
    "sum_age = 0\n",
    "sum_agechildren = 0\n",
    "sum_family = 0\n",
    "\n",
    "for el in sex_dict.keys():\n",
    "    sum_sex += sex_dict[el]\n",
    "for el in sex_dict.keys():\n",
    "    sex_dict[el]=sex_dict[el]/sum_sex\n",
    "\n",
    "for el in age_dict.keys():\n",
    "    sum_age += age_dict[el]\n",
    "for el in age_dict.keys():\n",
    "    age_dict[el]=age_dict[el]/sum_age\n",
    "\n",
    "for el in age_dict_children.keys():\n",
    "    sum_agechildren += age_dict_children[el]\n",
    "for el in age_dict_children.keys():\n",
    "    age_dict_children[el]=age_dict_children[el]/sum_agechildren\n",
    "\n",
    "for el in family_dict.keys():\n",
    "    sum_family += family_dict[el]\n",
    "for el in family_dict.keys():\n",
    "    family_dict[el]=family_dict[el]/sum_family\n",
    "\n",
    "df_sex = pd.DataFrame.from_dict(sex_dict, orient='index')\n",
    "#df_sex.to_csv(r\"projects_csv/measures/sex_distribution.csv\")\n",
    "\n",
    "age_dict = dict(sorted(age_dict.items(), key=lambda item: item[1], reverse=True))\n",
    "df_age = pd.DataFrame.from_dict(age_dict, orient='index')\n",
    "#df_age.to_csv(r\"projects_csv/measures/age_distribution.csv\")\n",
    "\n",
    "age_dict_children = dict(sorted(age_dict_children.items(), key=lambda item: item[1], reverse=True))\n",
    "df_age_children = pd.DataFrame.from_dict(age_dict_children, orient='index')\n",
    "#df_age_children.to_csv(r\"projects_csv/measures/agetotal_distribution.csv\")\n",
    "\n",
    "family_dict = dict(sorted(family_dict.items(), key=lambda item: item[1], reverse=True))\n",
    "df_family = pd.DataFrame.from_dict(family_dict, orient='index')\n",
    "#df_family.to_csv(r\"projects_csv/measures/family_distribution.csv\")\n"
   ]
  },
  {
   "cell_type": "markdown",
   "metadata": {},
   "source": [
    "Columns were then renaimed as \"*VARIABLE*\" and \"PERCENTAGE\""
   ]
  },
  {
   "cell_type": "markdown",
   "metadata": {},
   "source": [
    "# Filling missing values in CSVs using obtained distributions\n",
    "Now we need to use those values to fill missing cells in the remaining CSVs. WE will care about exceptions such as TupoPamoja and Mwalimu, that have restricted age range and consider the total age CSV just for MAJI, which is a project devoted to water supply: this could seem an uneveness in balance, since children are high in number but one of te interventions of MAJI regards only the school district, that by itself counts 900 inhabitants of younger ages with respect to other villagers. <br>\n",
    "In order to do so <a href=\"https://numpy.org/doc/stable/\">Numpy</a> was employed."
   ]
  },
  {
   "cell_type": "code",
   "execution_count": 83,
   "metadata": {},
   "outputs": [],
   "source": [
    "to_scan= [file for file in get_all_in_dir(\"projects_csv\")]\n",
    "\n",
    "df_age = pd.read_csv(\"projects_csv/measures/age_distribution.csv\")\n",
    "df_age_total = pd.read_csv(\"projects_csv/measures/agetotal_distribution.csv\")\n",
    "df_sex = pd.read_csv(\"projects_csv/measures/sex_distribution.csv\")\n",
    "df_family = pd.read_csv(\"projects_csv/measures/family_distribution.csv\")\n",
    "\n",
    "for file in to_scan:\n",
    "    df = pd.read_csv(file, encoding=\"utf-8\")\n",
    "    missing_age = df[\"AGE\"].isnull()\n",
    "    missing_sex = df[\"SEX\"].isnull()\n",
    "    missing_family = df[\"FAMILY\"].isnull()\n",
    "    if file.split(\"\\\\\")[1] not in [\"Maji.csv\", \"Mwalimu.csv\"]:\n",
    "        df.loc[missing_age, \"AGE\"] = np.random.choice(df_age[\"AGE\"], size=len(df[missing_age]), p=df_age[\"PERCENTAGE\"])\n",
    "    elif file.split(\"\\\\\")[1] not in [\"TupoPamoja.csv\", \"Mwalimu.csv\"]:\n",
    "        df.loc[missing_age, \"AGE\"] = np.random.choice(df_age_total[\"AGE\"], size=len(df[missing_age]), p=df_age_total[\"PERCENTAGE\"])\n",
    "    df.loc[missing_sex, \"SEX\"] = np.random.choice(df_sex[\"SEX\"], size=len(df[missing_sex]), p=df_sex[\"PERCENTAGE\"])\n",
    "    df.loc[missing_family, \"FAMILY\"] = np.random.choice(df_family[\"FAMILY\"], size=len(df[missing_family]), p=df_family[\"PERCENTAGE\"])\n",
    "    if file.split(\"\\\\\")[1] == \"TupoPamoja.csv\":\n",
    "        df.loc[missing_age, \"AGE\"] = np.random.choice(range(18, 49, 6), size=len(df[missing_age]))\n",
    "        for row in df.iterrows():\n",
    "            age = row[1][\"AGE\"]\n",
    "            idx = df[df['AGE']==age].index.values.astype(int)[0]\n",
    "            new_age = float(\"{:.2f}\".format(age/12))\n",
    "            df.loc[idx, \"AGE\"] = new_age\n",
    "    elif file.split(\"\\\\\")[1] == \"Mwalimu.csv\":\n",
    "        df.loc[missing_age, \"AGE\"] = np.random.choice(range(18, 25), size=len(df[missing_age]))\n",
    "   \n",
    "    #df.to_csv(r\"projects_csv/complete/complete_\"+file.split(\"\\\\\")[1])"
   ]
  },
  {
   "cell_type": "markdown",
   "metadata": {},
   "source": [
    "# Cleaning the data\n",
    "After qualitative judgement of some data it was noticed that some names were reported differently from CSV to CSV and so a cleaning was required. <br>\n",
    "Projects that reported participants, outside villages described by the association were restricted to Mi.Fi.Ma. and the small amount of paticipants (less than 15) residing outside Pomerini were registered as Pomerinians."
   ]
  },
  {
   "cell_type": "code",
   "execution_count": 96,
   "metadata": {},
   "outputs": [],
   "source": [
    "to_scan= [file for file in get_all_in_dir(\"projects_csv/complete\")]\n",
    "for file in to_scan:\n",
    "    df = pd.read_csv(file, encoding=\"utf-8\")\n",
    "    idx = df.index.values.astype(int)\n",
    "    for el in idx:\n",
    "        if df.loc[el, \"VILLAGE\"] == \"Kihesa Mgagao\":\n",
    "            df.loc[el, \"VILLAGE\"] = \"Khesa Mgagao\"\n",
    "        if df.loc[el, \"VILLAGE\"] in [\"Kaole\", \"Iringa\", \"Mbeya\", \"Lukani\", \"Ilula\", \"Ilula (Ikokoto)\", \"Image\", \"Dabaga\", \"Itungi\"]:\n",
    "            df.loc[el, \"VILLAGE\"] = \"Pomerini\"\n",
    "    #df.to_csv(r\"projects_csv/complete/\"+file.split(\"\\\\\")[1])"
   ]
  },
  {
   "cell_type": "markdown",
   "metadata": {},
   "source": [
    "# Generating Villages graphs\n",
    "In order to represent the brader villages environment, random graphs were generated in Gephi: this was also done basing on the information given from the association and corresponds to their averaging of the population.<br>\n",
    "The villages under consideration were:\n",
    "<ol>\n",
    "<li><b>Khesa Mgagao</b>: ca. 2000 inhabitants </li>\n",
    "<li><b>Kitowo</b>: ca. 3000 inhabitants </li>\n",
    "<li><b>Mwawambala</b>: ca. 3000 inhabitants </li>\n",
    "<li><b>Pomerini</b>: ca. 3000 inhabitants </li>\n",
    "<li><b>Ukumbi</b>: ca. 3000 inhabitants </li>\n",
    "</ol>\n",
    "\n",
    "Basing on the information provided by the association, the oscillation in population and their unawareness of the rela number of villagers, the number of inhabitants was set in a range of +- 250 around their averaging."
   ]
  },
  {
   "cell_type": "code",
   "execution_count": 99,
   "metadata": {},
   "outputs": [
    {
     "name": "stderr",
     "output_type": "stream",
     "text": [
      "C:\\Users\\GIORGI~1\\AppData\\Local\\Temp/ipykernel_13012/3427941655.py:15: UserWarning: Boolean Series key will be reindexed to match DataFrame index.\n",
      "  df.loc[missing_family, \"FAMILY\"] = np.random.choice(df_family[\"FAMILY\"], size=len(df[missing_family]), p=df_family[\"PERCENTAGE\"])\n"
     ]
    },
    {
     "ename": "PermissionError",
     "evalue": "[Errno 13] Permission denied: 'projects_csv/complete/complete_Pomerini.csv'",
     "output_type": "error",
     "traceback": [
      "\u001b[1;31m---------------------------------------------------------------------------\u001b[0m",
      "\u001b[1;31mPermissionError\u001b[0m                           Traceback (most recent call last)",
      "\u001b[1;32mC:\\Users\\GIORGI~1\\AppData\\Local\\Temp/ipykernel_13012/3427941655.py\u001b[0m in \u001b[0;36m<module>\u001b[1;34m\u001b[0m\n\u001b[0;32m     15\u001b[0m         \u001b[0mdf\u001b[0m\u001b[1;33m.\u001b[0m\u001b[0mloc\u001b[0m\u001b[1;33m[\u001b[0m\u001b[0mmissing_family\u001b[0m\u001b[1;33m,\u001b[0m \u001b[1;34m\"FAMILY\"\u001b[0m\u001b[1;33m]\u001b[0m \u001b[1;33m=\u001b[0m \u001b[0mnp\u001b[0m\u001b[1;33m.\u001b[0m\u001b[0mrandom\u001b[0m\u001b[1;33m.\u001b[0m\u001b[0mchoice\u001b[0m\u001b[1;33m(\u001b[0m\u001b[0mdf_family\u001b[0m\u001b[1;33m[\u001b[0m\u001b[1;34m\"FAMILY\"\u001b[0m\u001b[1;33m]\u001b[0m\u001b[1;33m,\u001b[0m \u001b[0msize\u001b[0m\u001b[1;33m=\u001b[0m\u001b[0mlen\u001b[0m\u001b[1;33m(\u001b[0m\u001b[0mdf\u001b[0m\u001b[1;33m[\u001b[0m\u001b[0mmissing_family\u001b[0m\u001b[1;33m]\u001b[0m\u001b[1;33m)\u001b[0m\u001b[1;33m,\u001b[0m \u001b[0mp\u001b[0m\u001b[1;33m=\u001b[0m\u001b[0mdf_family\u001b[0m\u001b[1;33m[\u001b[0m\u001b[1;34m\"PERCENTAGE\"\u001b[0m\u001b[1;33m]\u001b[0m\u001b[1;33m)\u001b[0m\u001b[1;33m\u001b[0m\u001b[1;33m\u001b[0m\u001b[0m\n\u001b[0;32m     16\u001b[0m         \u001b[0mdf\u001b[0m\u001b[1;33m=\u001b[0m\u001b[0mdf\u001b[0m\u001b[1;33m.\u001b[0m\u001b[0mdropna\u001b[0m\u001b[1;33m(\u001b[0m\u001b[0mthresh\u001b[0m\u001b[1;33m=\u001b[0m\u001b[1;36m2\u001b[0m\u001b[1;33m)\u001b[0m\u001b[1;33m\u001b[0m\u001b[1;33m\u001b[0m\u001b[0m\n\u001b[1;32m---> 17\u001b[1;33m     \u001b[0mdf\u001b[0m\u001b[1;33m.\u001b[0m\u001b[0mto_csv\u001b[0m\u001b[1;33m(\u001b[0m\u001b[1;34mr\"projects_csv/complete/complete_\"\u001b[0m\u001b[1;33m+\u001b[0m\u001b[0mvillage\u001b[0m\u001b[1;33m+\u001b[0m\u001b[1;34m\".csv\"\u001b[0m\u001b[1;33m)\u001b[0m\u001b[1;33m\u001b[0m\u001b[1;33m\u001b[0m\u001b[0m\n\u001b[0m",
      "\u001b[1;32m~\\AppData\\Local\\Packages\\PythonSoftwareFoundation.Python.3.9_qbz5n2kfra8p0\\LocalCache\\local-packages\\Python39\\site-packages\\pandas\\core\\generic.py\u001b[0m in \u001b[0;36mto_csv\u001b[1;34m(self, path_or_buf, sep, na_rep, float_format, columns, header, index, index_label, mode, encoding, compression, quoting, quotechar, line_terminator, chunksize, date_format, doublequote, escapechar, decimal, errors, storage_options)\u001b[0m\n\u001b[0;32m   3464\u001b[0m         )\n\u001b[0;32m   3465\u001b[0m \u001b[1;33m\u001b[0m\u001b[0m\n\u001b[1;32m-> 3466\u001b[1;33m         return DataFrameRenderer(formatter).to_csv(\n\u001b[0m\u001b[0;32m   3467\u001b[0m             \u001b[0mpath_or_buf\u001b[0m\u001b[1;33m,\u001b[0m\u001b[1;33m\u001b[0m\u001b[1;33m\u001b[0m\u001b[0m\n\u001b[0;32m   3468\u001b[0m             \u001b[0mline_terminator\u001b[0m\u001b[1;33m=\u001b[0m\u001b[0mline_terminator\u001b[0m\u001b[1;33m,\u001b[0m\u001b[1;33m\u001b[0m\u001b[1;33m\u001b[0m\u001b[0m\n",
      "\u001b[1;32m~\\AppData\\Local\\Packages\\PythonSoftwareFoundation.Python.3.9_qbz5n2kfra8p0\\LocalCache\\local-packages\\Python39\\site-packages\\pandas\\io\\formats\\format.py\u001b[0m in \u001b[0;36mto_csv\u001b[1;34m(self, path_or_buf, encoding, sep, columns, index_label, mode, compression, quoting, quotechar, line_terminator, chunksize, date_format, doublequote, escapechar, errors, storage_options)\u001b[0m\n\u001b[0;32m   1103\u001b[0m             \u001b[0mformatter\u001b[0m\u001b[1;33m=\u001b[0m\u001b[0mself\u001b[0m\u001b[1;33m.\u001b[0m\u001b[0mfmt\u001b[0m\u001b[1;33m,\u001b[0m\u001b[1;33m\u001b[0m\u001b[1;33m\u001b[0m\u001b[0m\n\u001b[0;32m   1104\u001b[0m         )\n\u001b[1;32m-> 1105\u001b[1;33m         \u001b[0mcsv_formatter\u001b[0m\u001b[1;33m.\u001b[0m\u001b[0msave\u001b[0m\u001b[1;33m(\u001b[0m\u001b[1;33m)\u001b[0m\u001b[1;33m\u001b[0m\u001b[1;33m\u001b[0m\u001b[0m\n\u001b[0m\u001b[0;32m   1106\u001b[0m \u001b[1;33m\u001b[0m\u001b[0m\n\u001b[0;32m   1107\u001b[0m         \u001b[1;32mif\u001b[0m \u001b[0mcreated_buffer\u001b[0m\u001b[1;33m:\u001b[0m\u001b[1;33m\u001b[0m\u001b[1;33m\u001b[0m\u001b[0m\n",
      "\u001b[1;32m~\\AppData\\Local\\Packages\\PythonSoftwareFoundation.Python.3.9_qbz5n2kfra8p0\\LocalCache\\local-packages\\Python39\\site-packages\\pandas\\io\\formats\\csvs.py\u001b[0m in \u001b[0;36msave\u001b[1;34m(self)\u001b[0m\n\u001b[0;32m    235\u001b[0m         \"\"\"\n\u001b[0;32m    236\u001b[0m         \u001b[1;31m# apply compression and byte/text conversion\u001b[0m\u001b[1;33m\u001b[0m\u001b[1;33m\u001b[0m\u001b[0m\n\u001b[1;32m--> 237\u001b[1;33m         with get_handle(\n\u001b[0m\u001b[0;32m    238\u001b[0m             \u001b[0mself\u001b[0m\u001b[1;33m.\u001b[0m\u001b[0mfilepath_or_buffer\u001b[0m\u001b[1;33m,\u001b[0m\u001b[1;33m\u001b[0m\u001b[1;33m\u001b[0m\u001b[0m\n\u001b[0;32m    239\u001b[0m             \u001b[0mself\u001b[0m\u001b[1;33m.\u001b[0m\u001b[0mmode\u001b[0m\u001b[1;33m,\u001b[0m\u001b[1;33m\u001b[0m\u001b[1;33m\u001b[0m\u001b[0m\n",
      "\u001b[1;32m~\\AppData\\Local\\Packages\\PythonSoftwareFoundation.Python.3.9_qbz5n2kfra8p0\\LocalCache\\local-packages\\Python39\\site-packages\\pandas\\io\\common.py\u001b[0m in \u001b[0;36mget_handle\u001b[1;34m(path_or_buf, mode, encoding, compression, memory_map, is_text, errors, storage_options)\u001b[0m\n\u001b[0;32m    700\u001b[0m         \u001b[1;32mif\u001b[0m \u001b[0mioargs\u001b[0m\u001b[1;33m.\u001b[0m\u001b[0mencoding\u001b[0m \u001b[1;32mand\u001b[0m \u001b[1;34m\"b\"\u001b[0m \u001b[1;32mnot\u001b[0m \u001b[1;32min\u001b[0m \u001b[0mioargs\u001b[0m\u001b[1;33m.\u001b[0m\u001b[0mmode\u001b[0m\u001b[1;33m:\u001b[0m\u001b[1;33m\u001b[0m\u001b[1;33m\u001b[0m\u001b[0m\n\u001b[0;32m    701\u001b[0m             \u001b[1;31m# Encoding\u001b[0m\u001b[1;33m\u001b[0m\u001b[1;33m\u001b[0m\u001b[0m\n\u001b[1;32m--> 702\u001b[1;33m             handle = open(\n\u001b[0m\u001b[0;32m    703\u001b[0m                 \u001b[0mhandle\u001b[0m\u001b[1;33m,\u001b[0m\u001b[1;33m\u001b[0m\u001b[1;33m\u001b[0m\u001b[0m\n\u001b[0;32m    704\u001b[0m                 \u001b[0mioargs\u001b[0m\u001b[1;33m.\u001b[0m\u001b[0mmode\u001b[0m\u001b[1;33m,\u001b[0m\u001b[1;33m\u001b[0m\u001b[1;33m\u001b[0m\u001b[0m\n",
      "\u001b[1;31mPermissionError\u001b[0m: [Errno 13] Permission denied: 'projects_csv/complete/complete_Pomerini.csv'"
     ]
    }
   ],
   "source": [
    "rand_kitowo=random.randint(2750, 3250)\n",
    "rand_ukumbi=random.randint(2750, 3250)\n",
    "rand_mwawambala=random.randint(2750, 3250)\n",
    "rand_pomerini=random.randint(2750, 3250)\n",
    "rand_khesa_mgagao=random.randint(1750, 2250)\n",
    "\n",
    "village_dict = {\"Kitowo\": rand_kitowo, \"Khesa Mgagao\": rand_khesa_mgagao, \"Mawambala\": rand_mwawambala, \"Pomerini\": rand_pomerini, \"Ukumbi\": rand_ukumbi}\n",
    "\n",
    "for village in village_dict.keys():\n",
    "    df=pd.DataFrame(index=np.arange(village_dict[village]), columns=[\"NAME\", \"PROJECT\", \"AGE\", \"SEX\", \"FAMILY\", \"START\"])\n",
    "    idx = df.index.values.astype(int)\n",
    "    missing_family=df[\"FAMILY\"].isnull()\n",
    "    for el in idx[1:]:\n",
    "        df.loc[el, \"NAME\"] = \"Name\"+str(el)\n",
    "        df.loc[missing_family, \"FAMILY\"] = np.random.choice(df_family[\"FAMILY\"], size=len(df[missing_family]), p=df_family[\"PERCENTAGE\"])\n",
    "        df=df.dropna(thresh=2)\n",
    "    #df.to_csv(r\"projects_csv/complete/complete_\"+village+\".csv\")\n"
   ]
  },
  {
   "cell_type": "markdown",
   "metadata": {},
   "source": [
    "Now that we have the villages networks we can simply extract the data from the projects CSVs and substitute random generated rows with the ones belonging to projects set in that village. <br> \n",
    "In this way we will obtain a description of the situation for each village but, since what we want is a wider view on the project's influence on the community not only in villages but as a cross bridge between them, we ought to generate a complete network of Tulims's influence in the Pomerini zone."
   ]
  },
  {
   "cell_type": "code",
   "execution_count": 98,
   "metadata": {},
   "outputs": [],
   "source": [
    "to_scan= [file for file in get_all_in_dir(\"projects_csv/complete\")]\n",
    "villages = list()\n",
    "projects = list()\n",
    "for file in to_scan:\n",
    "    if file.split(\"/\")[1].split(\"\\\\\")[1].split(\"_\")[1].split(\".\")[0] in [\"Pomerini\", \"Mawambala\", \"Kitowo\", \"Khesa Mgagao\", \"Ukumbi\"]:\n",
    "        villages.append(file)\n",
    "    else:\n",
    "        projects.append(file)\n",
    "\n",
    "idx_dict = {\"Kitowo\": -1, \"Khesa Mgagao\": -1, \"Mawambala\": -1, \"Pomerini\": -1, \"Ukumbi\": -1}\n",
    "\n",
    "for project in projects:\n",
    "    df_project = pd.read_csv(project, encoding=\"utf-8\")\n",
    "    project_name = project.split(\"/\")[1].split(\"\\\\\")[1].split(\"_\")[1].split(\".\")[0]\n",
    "    idx = df_project.index.values.astype(int)\n",
    "    for el in idx:\n",
    "        village = df_project.loc[el, \"VILLAGE\"]\n",
    "        try:\n",
    "            df_village = pd.read_csv(\"projects_csv/complete/complete_\"+village+\".csv\", encoding=\"utf-8\")\n",
    "            idx_village = df_village.index.values.astype(int)\n",
    "            for cell in idx_village:\n",
    "                if cell > idx_dict[village]:\n",
    "                    df_village.loc[cell, \"NAME\"] = df_project.loc[el, \"NAME\"]\n",
    "                    df_village.loc[cell, \"PROJECT\"] = project_name\n",
    "                    df_village.loc[cell, \"AGE\"] = df_project.loc[el, \"AGE\"]\n",
    "                    df_village.loc[cell, \"SEX\"] = df_project.loc[el, \"SEX\"]\n",
    "                    df_village.loc[cell, \"FAMILY\"] = df_project.loc[el, \"FAMILY\"]\n",
    "                    df_village.loc[cell, \"START\"] = df_project.loc[el, \"START\"]\n",
    "                    idx_dict[village]+=1\n",
    "            df.to_csv(r\"projects_csv/complete/complete_\"+village+\".csv\")\n",
    "        except Exception as e:\n",
    "            print (e)\n",
    "\n",
    "    \n"
   ]
  }
 ],
 "metadata": {
  "interpreter": {
   "hash": "1d603ae3e84bc2c7668b84db465d2afb033d38d826ce98f701f29ef4e883b1f2"
  },
  "kernelspec": {
   "display_name": "Python 3.9.12 64-bit (windows store)",
   "language": "python",
   "name": "python3"
  },
  "language_info": {
   "codemirror_mode": {
    "name": "ipython",
    "version": 3
   },
   "file_extension": ".py",
   "mimetype": "text/x-python",
   "name": "python",
   "nbconvert_exporter": "python",
   "pygments_lexer": "ipython3",
   "version": "3.9.12"
  },
  "orig_nbformat": 4
 },
 "nbformat": 4,
 "nbformat_minor": 2
}
